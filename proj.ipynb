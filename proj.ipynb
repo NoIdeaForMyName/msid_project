{
 "cells": [
  {
   "cell_type": "markdown",
   "metadata": {},
   "source": [
    "**Packages installation**"
   ]
  },
  {
   "cell_type": "code",
   "execution_count": 1,
   "metadata": {},
   "outputs": [
    {
     "name": "stdout",
     "output_type": "stream",
     "text": [
      "Requirement already satisfied: forex-python in c:\\users\\mmaks\\miniconda3\\envs\\sem4\\lib\\site-packages (1.8)\n",
      "Requirement already satisfied: requests in c:\\users\\mmaks\\miniconda3\\envs\\sem4\\lib\\site-packages (from forex-python) (2.28.1)\n",
      "Requirement already satisfied: simplejson in c:\\users\\mmaks\\miniconda3\\envs\\sem4\\lib\\site-packages (from forex-python) (3.19.2)\n",
      "Requirement already satisfied: charset-normalizer<3,>=2 in c:\\users\\mmaks\\miniconda3\\envs\\sem4\\lib\\site-packages (from requests->forex-python) (2.1.1)\n",
      "Requirement already satisfied: idna<4,>=2.5 in c:\\users\\mmaks\\miniconda3\\envs\\sem4\\lib\\site-packages (from requests->forex-python) (3.6)\n",
      "Requirement already satisfied: urllib3<1.27,>=1.21.1 in c:\\users\\mmaks\\miniconda3\\envs\\sem4\\lib\\site-packages (from requests->forex-python) (1.26.18)\n",
      "Requirement already satisfied: certifi>=2017.4.17 in c:\\users\\mmaks\\miniconda3\\envs\\sem4\\lib\\site-packages (from requests->forex-python) (2024.2.2)\n"
     ]
    }
   ],
   "source": [
    "!pip install forex-python"
   ]
  },
  {
   "cell_type": "markdown",
   "metadata": {},
   "source": [
    "**Imports**"
   ]
  },
  {
   "cell_type": "code",
   "execution_count": 2,
   "metadata": {},
   "outputs": [],
   "source": [
    "import numpy as np \n",
    "import pandas as pd \n",
    "\n",
    "import seaborn as sns \n",
    "import matplotlib.pyplot as plt\n",
    "\n",
    "from forex_python.converter import CurrencyRates\n",
    "import datetime as dt"
   ]
  },
  {
   "cell_type": "markdown",
   "metadata": {},
   "source": [
    "Merging all the CSV's into one dataset, and shuffling it with a specified seed for later reproductibility."
   ]
  },
  {
   "cell_type": "code",
   "execution_count": 3,
   "metadata": {},
   "outputs": [
    {
     "data": {
      "text/html": [
       "<div>\n",
       "<style scoped>\n",
       "    .dataframe tbody tr th:only-of-type {\n",
       "        vertical-align: middle;\n",
       "    }\n",
       "\n",
       "    .dataframe tbody tr th {\n",
       "        vertical-align: top;\n",
       "    }\n",
       "\n",
       "    .dataframe thead th {\n",
       "        text-align: right;\n",
       "    }\n",
       "</style>\n",
       "<table border=\"1\" class=\"dataframe\">\n",
       "  <thead>\n",
       "    <tr style=\"text-align: right;\">\n",
       "      <th></th>\n",
       "      <th>brand</th>\n",
       "      <th>model</th>\n",
       "      <th>generation</th>\n",
       "      <th>eng_cap</th>\n",
       "      <th>prod_year</th>\n",
       "      <th>power</th>\n",
       "      <th>fuel_type</th>\n",
       "      <th>car_body</th>\n",
       "      <th>mileage</th>\n",
       "      <th>color</th>\n",
       "      <th>condition</th>\n",
       "      <th>transmission</th>\n",
       "      <th>origin</th>\n",
       "      <th>price</th>\n",
       "      <th>source</th>\n",
       "    </tr>\n",
       "  </thead>\n",
       "  <tbody>\n",
       "    <tr>\n",
       "      <th>1550</th>\n",
       "      <td>Volkswagen</td>\n",
       "      <td>Golf</td>\n",
       "      <td>VII (2012-2020)</td>\n",
       "      <td>1 984 cm3</td>\n",
       "      <td>2017</td>\n",
       "      <td>310 KM</td>\n",
       "      <td>Benzyna</td>\n",
       "      <td>Kompakt</td>\n",
       "      <td>77 000 km</td>\n",
       "      <td>Biały</td>\n",
       "      <td>Używane</td>\n",
       "      <td>Automatyczna</td>\n",
       "      <td>NaN</td>\n",
       "      <td>114 000PLN</td>\n",
       "      <td>OTOMOTO</td>\n",
       "    </tr>\n",
       "    <tr>\n",
       "      <th>1221</th>\n",
       "      <td>Volkswagen</td>\n",
       "      <td>Golf</td>\n",
       "      <td>VIII (2020-)</td>\n",
       "      <td>1 968 cm3</td>\n",
       "      <td>2022</td>\n",
       "      <td>150 KM</td>\n",
       "      <td>Diesel</td>\n",
       "      <td>Kompakt</td>\n",
       "      <td>32 000 km</td>\n",
       "      <td>Szary</td>\n",
       "      <td>Używane</td>\n",
       "      <td>Automatyczna</td>\n",
       "      <td>Polska</td>\n",
       "      <td>95 000PLN</td>\n",
       "      <td>OTOMOTO</td>\n",
       "    </tr>\n",
       "    <tr>\n",
       "      <th>1941</th>\n",
       "      <td>Volkswagen</td>\n",
       "      <td>Golf</td>\n",
       "      <td>VIII (2020-)</td>\n",
       "      <td>1 968 cm3</td>\n",
       "      <td>2020</td>\n",
       "      <td>150 KM</td>\n",
       "      <td>Diesel</td>\n",
       "      <td>Kompakt</td>\n",
       "      <td>76 020 km</td>\n",
       "      <td>Czarny</td>\n",
       "      <td>Używane</td>\n",
       "      <td>Automatyczna</td>\n",
       "      <td>Francja</td>\n",
       "      <td>86 900PLN</td>\n",
       "      <td>OTOMOTO</td>\n",
       "    </tr>\n",
       "    <tr>\n",
       "      <th>573</th>\n",
       "      <td>BMW</td>\n",
       "      <td>Seria 3</td>\n",
       "      <td>E90/E91/E92/E93 (2005-2012)</td>\n",
       "      <td>2 996 cm3</td>\n",
       "      <td>2005</td>\n",
       "      <td>258 KM</td>\n",
       "      <td>Benzyna</td>\n",
       "      <td>Sedan</td>\n",
       "      <td>288 858 km</td>\n",
       "      <td>Szary</td>\n",
       "      <td>Używane</td>\n",
       "      <td>Manualna</td>\n",
       "      <td>NaN</td>\n",
       "      <td>32 500PLN</td>\n",
       "      <td>OTOMOTO</td>\n",
       "    </tr>\n",
       "    <tr>\n",
       "      <th>173</th>\n",
       "      <td>Opel</td>\n",
       "      <td>Corsa</td>\n",
       "      <td>D (2006-2014)</td>\n",
       "      <td>1 229 cm3</td>\n",
       "      <td>2009</td>\n",
       "      <td>80 KM</td>\n",
       "      <td>Benzyna</td>\n",
       "      <td>Kompakt</td>\n",
       "      <td>152 000 km</td>\n",
       "      <td>Czarny</td>\n",
       "      <td>Używane</td>\n",
       "      <td>Manualna</td>\n",
       "      <td>NaN</td>\n",
       "      <td>18 500PLN</td>\n",
       "      <td>OTOMOTO</td>\n",
       "    </tr>\n",
       "  </tbody>\n",
       "</table>\n",
       "</div>"
      ],
      "text/plain": [
       "           brand    model                   generation    eng_cap  prod_year  \\\n",
       "1550  Volkswagen     Golf              VII (2012-2020)  1 984 cm3       2017   \n",
       "1221  Volkswagen     Golf                 VIII (2020-)  1 968 cm3       2022   \n",
       "1941  Volkswagen     Golf                 VIII (2020-)  1 968 cm3       2020   \n",
       "573          BMW  Seria 3  E90/E91/E92/E93 (2005-2012)  2 996 cm3       2005   \n",
       "173         Opel    Corsa                D (2006-2014)  1 229 cm3       2009   \n",
       "\n",
       "       power fuel_type car_body     mileage   color condition  transmission  \\\n",
       "1550  310 KM   Benzyna  Kompakt   77 000 km   Biały   Używane  Automatyczna   \n",
       "1221  150 KM    Diesel  Kompakt   32 000 km   Szary   Używane  Automatyczna   \n",
       "1941  150 KM    Diesel  Kompakt   76 020 km  Czarny   Używane  Automatyczna   \n",
       "573   258 KM   Benzyna    Sedan  288 858 km   Szary   Używane      Manualna   \n",
       "173    80 KM   Benzyna  Kompakt  152 000 km  Czarny   Używane      Manualna   \n",
       "\n",
       "       origin       price   source  \n",
       "1550      NaN  114 000PLN  OTOMOTO  \n",
       "1221   Polska   95 000PLN  OTOMOTO  \n",
       "1941  Francja   86 900PLN  OTOMOTO  \n",
       "573       NaN   32 500PLN  OTOMOTO  \n",
       "173       NaN   18 500PLN  OTOMOTO  "
      ]
     },
     "execution_count": 3,
     "metadata": {},
     "output_type": "execute_result"
    }
   ],
   "source": [
    "dataset = pd.concat([pd.read_csv('Volkswagen_Golf.csv', na_values='Unknown'), pd.read_csv('BMW_Seria 3.csv', na_values='Unknown'), pd.read_csv('Opel_Corsa.csv', na_values='Unknown')])\n",
    "dataset = dataset.sample(frac=1, random_state=42)\n",
    "dataset.head()"
   ]
  },
  {
   "cell_type": "markdown",
   "metadata": {},
   "source": [
    "Checking how the data looks:"
   ]
  },
  {
   "cell_type": "code",
   "execution_count": 4,
   "metadata": {},
   "outputs": [
    {
     "name": "stdout",
     "output_type": "stream",
     "text": [
      "<class 'pandas.core.frame.DataFrame'>\n",
      "Index: 6867 entries, 1550 to 860\n",
      "Data columns (total 15 columns):\n",
      " #   Column        Non-Null Count  Dtype \n",
      "---  ------        --------------  ----- \n",
      " 0   brand         6867 non-null   object\n",
      " 1   model         6867 non-null   object\n",
      " 2   generation    6805 non-null   object\n",
      " 3   eng_cap       6782 non-null   object\n",
      " 4   prod_year     6867 non-null   int64 \n",
      " 5   power         6861 non-null   object\n",
      " 6   fuel_type     6867 non-null   object\n",
      " 7   car_body      6867 non-null   object\n",
      " 8   mileage       6867 non-null   object\n",
      " 9   color         6867 non-null   object\n",
      " 10  condition     6867 non-null   object\n",
      " 11  transmission  6865 non-null   object\n",
      " 12  origin        4154 non-null   object\n",
      " 13  price         6867 non-null   object\n",
      " 14  source        6867 non-null   object\n",
      "dtypes: int64(1), object(14)\n",
      "memory usage: 858.4+ KB\n"
     ]
    }
   ],
   "source": [
    "dataset.info()"
   ]
  },
  {
   "cell_type": "markdown",
   "metadata": {},
   "source": [
    "As we can see, there are columns, e.g. mileage or price, which definitely should be an integer value, and instead, every column except prod_year is the type of an object. In order to execute exploratory data analysis, we have to prepare the data.\n",
    "\n",
    "Let's preprocess the data in the following way:\n",
    "\n",
    "brand - object\n",
    "\n",
    "model - object\n",
    "\n",
    "generation - object\n",
    "\n",
    "eng_cap - int [cm^3]\n",
    "\n",
    "prod_year - int\n",
    "\n",
    "power - int [KM]\n",
    "\n",
    "fuel_type - object\n",
    "\n",
    "car_body - object\n",
    "\n",
    "mileage - int [km]\n",
    "\n",
    "color - object\n",
    "\n",
    "condition - object\n",
    "\n",
    "transmission - object\n",
    "\n",
    "origin - object\n",
    "\n",
    "price - int [zł]\n",
    "\n",
    "source - object (we can drop it right away, because in all samples it has one value: **OTOMOTO**)\n",
    "\n"
   ]
  },
  {
   "cell_type": "code",
   "execution_count": 5,
   "metadata": {},
   "outputs": [],
   "source": [
    "dataset['eng_cap'] = dataset['eng_cap'].apply(lambda x: float(x.replace('cm3', '').replace(' ', '')) if not pd.isnull(x) else x)\n",
    "dataset['power'] = dataset['power'].apply(lambda x: float(x.replace('KM', '').replace(' ', '')) if not pd.isnull(x) else x)\n",
    "dataset['mileage'] = dataset['mileage'].apply(lambda x: int(x.replace('km', '').replace(' ', '')) if not pd.isnull(x) else x)"
   ]
  },
  {
   "cell_type": "markdown",
   "metadata": {},
   "source": [
    "With the price, situation is more complicated, because it can be given in different currencies. We have to convert them all to PLN"
   ]
  },
  {
   "cell_type": "code",
   "execution_count": 6,
   "metadata": {},
   "outputs": [],
   "source": [
    "from forex_python.converter import CurrencyRates\n",
    "import re\n",
    "import functools\n",
    "\n",
    "# caching, so that getting online info about certain currency happens only once for the same input \n",
    "@functools.cache\n",
    "def get_currency(base_cur: str, dest_cur: str, date_obj: dt.datetime) -> float:\n",
    "    c = CurrencyRates()\n",
    "    try:\n",
    "        rate = c.get_rate(base_cur=base_cur, dest_cur='PLN', date_obj=date_obj)\n",
    "    except:\n",
    "        print('LOOLOZ BLAD:', base_cur, dest_cur)\n",
    "    if not isinstance(rate, float):\n",
    "        raise ValueError(f'One of the following function arguments was incorrect: {base_cur, dest_cur, date_obj}')\n",
    "    return rate\n",
    "\n",
    "def currency_to_PLN(value: str) -> float:\n",
    "    pattern = re.compile(r'([\\d\\s,]+)([^\\d\\s]+)')\n",
    "    match = re.search(pattern, value)\n",
    "    if match is None:\n",
    "        raise ValueError(f'Unexpected price format: {value}')\n",
    "    float_val = float(match.group(1).replace(' ', '').replace(',', '.'))\n",
    "    base_curr = match.group(2)\n",
    "    date = dt.datetime(2024, 5, 2, 12, 00) # set datetime for reproductability\n",
    "    rate = get_currency(base_curr, 'PLN', date)\n",
    "    return round(float_val * rate, 2)\n",
    "\n",
    "dataset['price'] = dataset['price'].apply(lambda x: float(currency_to_PLN(x)) if not pd.isnull(x) else x)"
   ]
  },
  {
   "cell_type": "code",
   "execution_count": 7,
   "metadata": {},
   "outputs": [
    {
     "name": "stdout",
     "output_type": "stream",
     "text": [
      "<class 'pandas.core.frame.DataFrame'>\n",
      "Index: 6867 entries, 1550 to 860\n",
      "Data columns (total 15 columns):\n",
      " #   Column        Non-Null Count  Dtype  \n",
      "---  ------        --------------  -----  \n",
      " 0   brand         6867 non-null   object \n",
      " 1   model         6867 non-null   object \n",
      " 2   generation    6805 non-null   object \n",
      " 3   eng_cap       6782 non-null   float64\n",
      " 4   prod_year     6867 non-null   int64  \n",
      " 5   power         6861 non-null   float64\n",
      " 6   fuel_type     6867 non-null   object \n",
      " 7   car_body      6867 non-null   object \n",
      " 8   mileage       6867 non-null   int64  \n",
      " 9   color         6867 non-null   object \n",
      " 10  condition     6867 non-null   object \n",
      " 11  transmission  6865 non-null   object \n",
      " 12  origin        4154 non-null   object \n",
      " 13  price         6867 non-null   float64\n",
      " 14  source        6867 non-null   object \n",
      "dtypes: float64(3), int64(2), object(10)\n",
      "memory usage: 858.4+ KB\n"
     ]
    }
   ],
   "source": [
    "dataset.info()"
   ]
  },
  {
   "cell_type": "code",
   "execution_count": 8,
   "metadata": {},
   "outputs": [
    {
     "data": {
      "text/html": [
       "<div>\n",
       "<style scoped>\n",
       "    .dataframe tbody tr th:only-of-type {\n",
       "        vertical-align: middle;\n",
       "    }\n",
       "\n",
       "    .dataframe tbody tr th {\n",
       "        vertical-align: top;\n",
       "    }\n",
       "\n",
       "    .dataframe thead th {\n",
       "        text-align: right;\n",
       "    }\n",
       "</style>\n",
       "<table border=\"1\" class=\"dataframe\">\n",
       "  <thead>\n",
       "    <tr style=\"text-align: right;\">\n",
       "      <th></th>\n",
       "      <th>brand</th>\n",
       "      <th>model</th>\n",
       "      <th>generation</th>\n",
       "      <th>eng_cap</th>\n",
       "      <th>prod_year</th>\n",
       "      <th>power</th>\n",
       "      <th>fuel_type</th>\n",
       "      <th>car_body</th>\n",
       "      <th>mileage</th>\n",
       "      <th>color</th>\n",
       "      <th>condition</th>\n",
       "      <th>transmission</th>\n",
       "      <th>origin</th>\n",
       "      <th>price</th>\n",
       "    </tr>\n",
       "  </thead>\n",
       "  <tbody>\n",
       "    <tr>\n",
       "      <th>1550</th>\n",
       "      <td>Volkswagen</td>\n",
       "      <td>Golf</td>\n",
       "      <td>VII (2012-2020)</td>\n",
       "      <td>1984.0</td>\n",
       "      <td>2017</td>\n",
       "      <td>310.0</td>\n",
       "      <td>Benzyna</td>\n",
       "      <td>Kompakt</td>\n",
       "      <td>77000</td>\n",
       "      <td>Biały</td>\n",
       "      <td>Używane</td>\n",
       "      <td>Automatyczna</td>\n",
       "      <td>NaN</td>\n",
       "      <td>114000.0</td>\n",
       "    </tr>\n",
       "    <tr>\n",
       "      <th>1221</th>\n",
       "      <td>Volkswagen</td>\n",
       "      <td>Golf</td>\n",
       "      <td>VIII (2020-)</td>\n",
       "      <td>1968.0</td>\n",
       "      <td>2022</td>\n",
       "      <td>150.0</td>\n",
       "      <td>Diesel</td>\n",
       "      <td>Kompakt</td>\n",
       "      <td>32000</td>\n",
       "      <td>Szary</td>\n",
       "      <td>Używane</td>\n",
       "      <td>Automatyczna</td>\n",
       "      <td>Polska</td>\n",
       "      <td>95000.0</td>\n",
       "    </tr>\n",
       "    <tr>\n",
       "      <th>1941</th>\n",
       "      <td>Volkswagen</td>\n",
       "      <td>Golf</td>\n",
       "      <td>VIII (2020-)</td>\n",
       "      <td>1968.0</td>\n",
       "      <td>2020</td>\n",
       "      <td>150.0</td>\n",
       "      <td>Diesel</td>\n",
       "      <td>Kompakt</td>\n",
       "      <td>76020</td>\n",
       "      <td>Czarny</td>\n",
       "      <td>Używane</td>\n",
       "      <td>Automatyczna</td>\n",
       "      <td>Francja</td>\n",
       "      <td>86900.0</td>\n",
       "    </tr>\n",
       "    <tr>\n",
       "      <th>573</th>\n",
       "      <td>BMW</td>\n",
       "      <td>Seria 3</td>\n",
       "      <td>E90/E91/E92/E93 (2005-2012)</td>\n",
       "      <td>2996.0</td>\n",
       "      <td>2005</td>\n",
       "      <td>258.0</td>\n",
       "      <td>Benzyna</td>\n",
       "      <td>Sedan</td>\n",
       "      <td>288858</td>\n",
       "      <td>Szary</td>\n",
       "      <td>Używane</td>\n",
       "      <td>Manualna</td>\n",
       "      <td>NaN</td>\n",
       "      <td>32500.0</td>\n",
       "    </tr>\n",
       "    <tr>\n",
       "      <th>173</th>\n",
       "      <td>Opel</td>\n",
       "      <td>Corsa</td>\n",
       "      <td>D (2006-2014)</td>\n",
       "      <td>1229.0</td>\n",
       "      <td>2009</td>\n",
       "      <td>80.0</td>\n",
       "      <td>Benzyna</td>\n",
       "      <td>Kompakt</td>\n",
       "      <td>152000</td>\n",
       "      <td>Czarny</td>\n",
       "      <td>Używane</td>\n",
       "      <td>Manualna</td>\n",
       "      <td>NaN</td>\n",
       "      <td>18500.0</td>\n",
       "    </tr>\n",
       "  </tbody>\n",
       "</table>\n",
       "</div>"
      ],
      "text/plain": [
       "           brand    model                   generation  eng_cap  prod_year  \\\n",
       "1550  Volkswagen     Golf              VII (2012-2020)   1984.0       2017   \n",
       "1221  Volkswagen     Golf                 VIII (2020-)   1968.0       2022   \n",
       "1941  Volkswagen     Golf                 VIII (2020-)   1968.0       2020   \n",
       "573          BMW  Seria 3  E90/E91/E92/E93 (2005-2012)   2996.0       2005   \n",
       "173         Opel    Corsa                D (2006-2014)   1229.0       2009   \n",
       "\n",
       "      power fuel_type car_body  mileage   color condition  transmission  \\\n",
       "1550  310.0   Benzyna  Kompakt    77000   Biały   Używane  Automatyczna   \n",
       "1221  150.0    Diesel  Kompakt    32000   Szary   Używane  Automatyczna   \n",
       "1941  150.0    Diesel  Kompakt    76020  Czarny   Używane  Automatyczna   \n",
       "573   258.0   Benzyna    Sedan   288858   Szary   Używane      Manualna   \n",
       "173    80.0   Benzyna  Kompakt   152000  Czarny   Używane      Manualna   \n",
       "\n",
       "       origin     price  \n",
       "1550      NaN  114000.0  \n",
       "1221   Polska   95000.0  \n",
       "1941  Francja   86900.0  \n",
       "573       NaN   32500.0  \n",
       "173       NaN   18500.0  "
      ]
     },
     "execution_count": 8,
     "metadata": {},
     "output_type": "execute_result"
    }
   ],
   "source": [
    "# dropping unnecessary source column\n",
    "dataset.drop('source', axis=1, inplace=True)\n",
    "dataset.head()"
   ]
  },
  {
   "cell_type": "code",
   "execution_count": 9,
   "metadata": {},
   "outputs": [
    {
     "data": {
      "text/html": [
       "<div>\n",
       "<style scoped>\n",
       "    .dataframe tbody tr th:only-of-type {\n",
       "        vertical-align: middle;\n",
       "    }\n",
       "\n",
       "    .dataframe tbody tr th {\n",
       "        vertical-align: top;\n",
       "    }\n",
       "\n",
       "    .dataframe thead th {\n",
       "        text-align: right;\n",
       "    }\n",
       "</style>\n",
       "<table border=\"1\" class=\"dataframe\">\n",
       "  <thead>\n",
       "    <tr style=\"text-align: right;\">\n",
       "      <th></th>\n",
       "      <th>Number</th>\n",
       "      <th>Percentage</th>\n",
       "    </tr>\n",
       "  </thead>\n",
       "  <tbody>\n",
       "    <tr>\n",
       "      <th>origin</th>\n",
       "      <td>2713</td>\n",
       "      <td>39.507791</td>\n",
       "    </tr>\n",
       "    <tr>\n",
       "      <th>eng_cap</th>\n",
       "      <td>85</td>\n",
       "      <td>1.237804</td>\n",
       "    </tr>\n",
       "    <tr>\n",
       "      <th>generation</th>\n",
       "      <td>62</td>\n",
       "      <td>0.902869</td>\n",
       "    </tr>\n",
       "    <tr>\n",
       "      <th>power</th>\n",
       "      <td>6</td>\n",
       "      <td>0.087374</td>\n",
       "    </tr>\n",
       "    <tr>\n",
       "      <th>transmission</th>\n",
       "      <td>2</td>\n",
       "      <td>0.029125</td>\n",
       "    </tr>\n",
       "  </tbody>\n",
       "</table>\n",
       "</div>"
      ],
      "text/plain": [
       "              Number  Percentage\n",
       "origin          2713   39.507791\n",
       "eng_cap           85    1.237804\n",
       "generation        62    0.902869\n",
       "power              6    0.087374\n",
       "transmission       2    0.029125"
      ]
     },
     "execution_count": 9,
     "metadata": {},
     "output_type": "execute_result"
    }
   ],
   "source": [
    "def show_missing_values():\n",
    "    nulls = dataset.isnull()\n",
    "    null_values = nulls.sum().sort_values(ascending=False)\n",
    "    percentage = nulls.sum() / nulls.count()*100\n",
    "    missing_values = pd.concat([null_values, percentage], axis=1, keys=['Number', 'Percentage'], sort=False)\n",
    "    return missing_values[missing_values['Percentage'] != 0]\n",
    "\n",
    "show_missing_values()"
   ]
  },
  {
   "cell_type": "markdown",
   "metadata": {},
   "source": [
    "As we can see, about 40% of the samples don't have their **origin country** specified. After checking (later) how strong correlation between this decision variable and the price is, we will decide whether we drop this column or not.\n",
    "\n",
    "The rest of the columns have almost no missing values."
   ]
  },
  {
   "cell_type": "markdown",
   "metadata": {},
   "source": [
    "Now, we have to preprocess the whole data, i.e. "
   ]
  },
  {
   "cell_type": "code",
   "execution_count": 21,
   "metadata": {},
   "outputs": [],
   "source": [
    "from ydata_profiling import ProfileReport\n",
    "\n",
    "#df = pd.DataFrame(np.random.rand(100, 5), columns=['a', 'b', 'c', 'd', 'e'])\n",
    "profile = ProfileReport(dataset, title='Test profile report')\n"
   ]
  },
  {
   "cell_type": "code",
   "execution_count": 22,
   "metadata": {},
   "outputs": [
    {
     "data": {
      "application/vnd.jupyter.widget-view+json": {
       "model_id": "28ce31fdf8db493c86db0f0304c2fed2",
       "version_major": 2,
       "version_minor": 0
      },
      "text/plain": [
       "Summarize dataset:   0%|          | 0/5 [00:00<?, ?it/s]"
      ]
     },
     "metadata": {},
     "output_type": "display_data"
    },
    {
     "name": "stderr",
     "output_type": "stream",
     "text": [
      "c:\\Users\\mmaks\\miniconda3\\envs\\sem4\\Lib\\site-packages\\ydata_profiling\\model\\correlations.py:66: UserWarning: There was an attempt to calculate the auto correlation, but this failed.\n",
      "To hide this warning, disable the calculation\n",
      "(using `df.profile_report(correlations={\"auto\": {\"calculate\": False}})`\n",
      "If this is problematic for your use case, please report this as an issue:\n",
      "https://github.com/ydataai/ydata-profiling/issues\n",
      "(include the error message: 'could not convert string to float: 'Volkswagen'')\n",
      "  warnings.warn(\n"
     ]
    },
    {
     "data": {
      "application/vnd.jupyter.widget-view+json": {
       "model_id": "d0b9a5533fe34010949df678dae6fa7d",
       "version_major": 2,
       "version_minor": 0
      },
      "text/plain": [
       "Generate report structure:   0%|          | 0/1 [00:00<?, ?it/s]"
      ]
     },
     "metadata": {},
     "output_type": "display_data"
    },
    {
     "data": {
      "application/vnd.jupyter.widget-view+json": {
       "model_id": "da0e673dcbfe4b0db07ce3f89d932c97",
       "version_major": 2,
       "version_minor": 0
      },
      "text/plain": [
       "Render HTML:   0%|          | 0/1 [00:00<?, ?it/s]"
      ]
     },
     "metadata": {},
     "output_type": "display_data"
    },
    {
     "data": {
      "application/vnd.jupyter.widget-view+json": {
       "model_id": "d496420ab46c47eaad822c7ae5e1330f",
       "version_major": 2,
       "version_minor": 0
      },
      "text/plain": [
       "Export report to file:   0%|          | 0/1 [00:00<?, ?it/s]"
      ]
     },
     "metadata": {},
     "output_type": "display_data"
    }
   ],
   "source": [
    "profile.to_file('car_analysis.html')"
   ]
  },
  {
   "cell_type": "code",
   "execution_count": 17,
   "metadata": {},
   "outputs": [],
   "source": [
    "df = pd.read_csv('titanic.csv')\n",
    "profile = ProfileReport(df, title='Test profile report')"
   ]
  },
  {
   "cell_type": "code",
   "execution_count": 20,
   "metadata": {},
   "outputs": [
    {
     "data": {
      "application/vnd.jupyter.widget-view+json": {
       "model_id": "5300d21acb8e408aa299bc80cd931e3a",
       "version_major": 2,
       "version_minor": 0
      },
      "text/plain": [
       "Export report to file:   0%|          | 0/1 [00:00<?, ?it/s]"
      ]
     },
     "metadata": {},
     "output_type": "display_data"
    }
   ],
   "source": [
    "profile.to_file('titanic_analysis.html')"
   ]
  }
 ],
 "metadata": {
  "kernelspec": {
   "display_name": "sem4",
   "language": "python",
   "name": "python3"
  },
  "language_info": {
   "codemirror_mode": {
    "name": "ipython",
    "version": 3
   },
   "file_extension": ".py",
   "mimetype": "text/x-python",
   "name": "python",
   "nbconvert_exporter": "python",
   "pygments_lexer": "ipython3",
   "version": "3.12.2"
  }
 },
 "nbformat": 4,
 "nbformat_minor": 2
}
